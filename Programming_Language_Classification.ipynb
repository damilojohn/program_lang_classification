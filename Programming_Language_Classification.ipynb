{
 "cells": [
  {
   "cell_type": "code",
   "execution_count": 10,
   "id": "7bef08df",
   "metadata": {},
   "outputs": [],
   "source": [
    "import pandas as pd  \n",
    "import numpy \n",
    "import matplotlib.pyplot as plt\n",
    "import seaborn as sns"
   ]
  },
  {
   "cell_type": "code",
   "execution_count": 32,
   "id": "fcba8ca9",
   "metadata": {},
   "outputs": [],
   "source": [
    "train_df = pd.read_csv(r\"C:\\Users\\USER\\Datasets\\Language Detection\\train.csv\")\n",
    "test_df = pd.read_csv(r\"C:\\USERS\\USER\\Datasets\\Language Detection\\test (3).csv\")"
   ]
  },
  {
   "cell_type": "code",
   "execution_count": 3,
   "id": "e3d4706f",
   "metadata": {},
   "outputs": [
    {
     "data": {
      "text/html": [
       "<div>\n",
       "<style scoped>\n",
       "    .dataframe tbody tr th:only-of-type {\n",
       "        vertical-align: middle;\n",
       "    }\n",
       "\n",
       "    .dataframe tbody tr th {\n",
       "        vertical-align: top;\n",
       "    }\n",
       "\n",
       "    .dataframe thead th {\n",
       "        text-align: right;\n",
       "    }\n",
       "</style>\n",
       "<table border=\"1\" class=\"dataframe\">\n",
       "  <thead>\n",
       "    <tr style=\"text-align: right;\">\n",
       "      <th></th>\n",
       "      <th>id</th>\n",
       "      <th>code</th>\n",
       "      <th>language</th>\n",
       "    </tr>\n",
       "  </thead>\n",
       "  <tbody>\n",
       "    <tr>\n",
       "      <th>0</th>\n",
       "      <td>14026</td>\n",
       "      <td>var result = testObj1 | testObj2;\\...</td>\n",
       "      <td>c-sharp</td>\n",
       "    </tr>\n",
       "    <tr>\n",
       "      <th>1</th>\n",
       "      <td>12201</td>\n",
       "      <td>///     Initializes a new instance of ...</td>\n",
       "      <td>c-sharp</td>\n",
       "    </tr>\n",
       "    <tr>\n",
       "      <th>2</th>\n",
       "      <td>17074</td>\n",
       "      <td>/*\\n\\n     Explanation :- a user gives a Strin...</td>\n",
       "      <td>javascript</td>\n",
       "    </tr>\n",
       "    <tr>\n",
       "      <th>3</th>\n",
       "      <td>21102</td>\n",
       "      <td>int sum = 0;\\n\\n         for (int i = ...</td>\n",
       "      <td>c-plus-plus</td>\n",
       "    </tr>\n",
       "    <tr>\n",
       "      <th>4</th>\n",
       "      <td>53065</td>\n",
       "      <td>if (p-&gt;data &lt; min)\\n\\n         {\\n\\n  ...</td>\n",
       "      <td>c</td>\n",
       "    </tr>\n",
       "  </tbody>\n",
       "</table>\n",
       "</div>"
      ],
      "text/plain": [
       "      id                                               code     language\n",
       "0  14026              var result = testObj1 | testObj2;\\...      c-sharp\n",
       "1  12201          ///     Initializes a new instance of ...      c-sharp\n",
       "2  17074  /*\\n\\n     Explanation :- a user gives a Strin...   javascript\n",
       "3  21102          int sum = 0;\\n\\n         for (int i = ...  c-plus-plus\n",
       "4  53065          if (p->data < min)\\n\\n         {\\n\\n  ...            c"
      ]
     },
     "execution_count": 3,
     "metadata": {},
     "output_type": "execute_result"
    }
   ],
   "source": [
    "train_df.head(5)"
   ]
  },
  {
   "cell_type": "code",
   "execution_count": 7,
   "id": "b27540d2",
   "metadata": {},
   "outputs": [
    {
     "data": {
      "text/plain": [
       "array(['c-sharp', 'javascript', 'c-plus-plus', 'c', 'python', 'ruby',\n",
       "       'swift', 'java', 'go', 'dart', 'julia', 'f-sharp', 'php', 'R',\n",
       "       'scala'], dtype=object)"
      ]
     },
     "execution_count": 7,
     "metadata": {},
     "output_type": "execute_result"
    }
   ],
   "source": [
    "train_df['language'].unique()"
   ]
  },
  {
   "cell_type": "code",
   "execution_count": 22,
   "id": "fcd3c526",
   "metadata": {},
   "outputs": [
    {
     "data": {
      "text/plain": [
       "Counter({'c-sharp': 3890,\n",
       "         'javascript': 2701,\n",
       "         'c-plus-plus': 11277,\n",
       "         'c': 4565,\n",
       "         'python': 12678,\n",
       "         'ruby': 1117,\n",
       "         'swift': 260,\n",
       "         'java': 4318,\n",
       "         'go': 1981,\n",
       "         'dart': 1023,\n",
       "         'julia': 1005,\n",
       "         'f-sharp': 246,\n",
       "         'php': 260,\n",
       "         'R': 160,\n",
       "         'scala': 147})"
      ]
     },
     "execution_count": 22,
     "metadata": {},
     "output_type": "execute_result"
    }
   ],
   "source": [
    "from collections import Counter\n",
    "labels = Counter(train_df.language)\n",
    "labels"
   ]
  },
  {
   "cell_type": "code",
   "execution_count": 23,
   "id": "9340e685-45ce-498f-8944-003e80e89db9",
   "metadata": {},
   "outputs": [
    {
     "data": {
      "image/png": "[encoded data removed]",
      "text/plain": [
       "<Figure size 720x216 with 1 Axes>"
      ]
     },
     "metadata": {
      "needs_background": "light"
     },
     "output_type": "display_data"
    }
   ],
   "source": [
    "labels,label_count = zip(*labels.most_common())\n",
    "plt.figure(figsize=(10,3))\n",
    "ax = sns.barplot(x=list(labels),y=list(label_count))\n",
    "ax.set_xticklabels(labels,rotation=0,fontsize=8)\n",
    "plt.title(\"language distribution\",fontsize=14)\n",
    "plt.ylabel(\"frequency of occurrence\",fontsize=14)\n",
    "plt.show()"
   ]
  },
  {
   "cell_type": "code",
   "execution_count": 25,
   "id": "5760c9d4-b509-4397-9a99-2ff0368935e6",
   "metadata": {},
   "outputs": [],
   "source": [
    "from sklearn.model_selection import train_test_split\n",
    "from sklearn.feature_extraction.text import CountVectorizer\n",
    "from sklearn.feature_extraction.text import TfidfTransformer\n",
    "from sklearn.naive_bayes import MultinomialNB\n",
    "from sklearn.pipeline import Pipeline\n",
    "from sklearn.metrics import roc_auc_score,accuracy_score,f1_score\n",
    "from sklearn.preprocessing import LabelEncoder"
   ]
  },
  {
   "cell_type": "code",
   "execution_count": 36,
   "id": "91779525-5839-4f93-ba60-6b5c6cff7372",
   "metadata": {},
   "outputs": [],
   "source": [
    "label_encoding = LabelEncoder().fit(train_df.language)\n",
    "train_df['target'] = label_encoding.transform(train_df.language)"
   ]
  },
  {
   "cell_type": "code",
   "execution_count": 39,
   "id": "108e01af-b91e-48c4-ba34-ce3c44c016fb",
   "metadata": {},
   "outputs": [],
   "source": [
    "x_train,y_train = train_df['code'],train_df['target']"
   ]
  },
  {
   "cell_type": "code",
   "execution_count": 40,
   "id": "86a469c5-2bc7-46a4-9f81-6762f261659f",
   "metadata": {},
   "outputs": [
    {
     "data": {
      "text/plain": [
       "0                    var result = testObj1 | testObj2;\\...\n",
       "1                ///     Initializes a new instance of ...\n",
       "2        /*\\n\\n     Explanation :- a user gives a Strin...\n",
       "3                int sum = 0;\\n\\n         for (int i = ...\n",
       "4                if (p->data < min)\\n\\n         {\\n\\n  ...\n",
       "                               ...                        \n",
       "45623            check = 3\\n\\n     x = len(coordinates)...\n",
       "45624                self.fib_array.append(0)\\n\\n      ...\n",
       "45625        do {\\n\\n         std::cout << \"\\n1. Insert...\n",
       "45626    package Sorts;\\n\\n import java.util.Arrays;\\n\\...\n",
       "45627            calculateInDegree();\\n\\n         Queue...\n",
       "Name: code, Length: 45628, dtype: object"
      ]
     },
     "execution_count": 40,
     "metadata": {},
     "output_type": "execute_result"
    }
   ],
   "source": [
    "x_test,y_test = test_df['code'],test_df['target']"
   ]
  },
  {
   "cell_type": "code",
   "execution_count": 44,
   "id": "02156587-1feb-441d-9098-ddd7c00ff675",
   "metadata": {},
   "outputs": [],
   "source": [
    "#creating a validation set\n",
    "x_train,x_val,y_train,y_val = train_test_split(x_train,y_train,test_size=0.2,random_state=12)"
   ]
  },
  {
   "cell_type": "code",
   "execution_count": 47,
   "id": "ef6af3e6-5001-4402-8bb6-732f13b2cc70",
   "metadata": {},
   "outputs": [
    {
     "data": {
      "text/plain": [
       "((36502,), (9126,))"
      ]
     },
     "execution_count": 47,
     "metadata": {},
     "output_type": "execute_result"
    }
   ],
   "source": [
    "x_train.shape,x_val.shape,"
   ]
  },
  {
   "cell_type": "markdown",
   "id": "b22130b0-f21b-40bd-8ac6-7495b20b6437",
   "metadata": {},
   "source": [
    "# Creating a baseline model "
   ]
  },
  {
   "cell_type": "code",
   "execution_count": 48,
   "id": "9c517738-ebf6-42f5-878b-4cf66615c281",
   "metadata": {},
   "outputs": [],
   "source": [
    "vectorizer = CountVectorizer(ngram_range=(1, 5))"
   ]
  },
  {
   "cell_type": "code",
   "execution_count": 50,
   "id": "707cd49f-b86d-4a5a-a3bc-e8a78c30da5d",
   "metadata": {},
   "outputs": [],
   "source": [
    "vectors = vectorizer.fit(x_train)"
   ]
  },
  {
   "cell_type": "code",
   "execution_count": 52,
   "id": "f0ddfb46-4abd-400c-af00-729e64caa00a",
   "metadata": {},
   "outputs": [],
   "source": [
    "x_train_vectorised = vectors.transform(x_train)"
   ]
  },
  {
   "cell_type": "code",
   "execution_count": 55,
   "id": "437db6d5-457a-4579-ae51-5088e8d9f375",
   "metadata": {},
   "outputs": [],
   "source": [
    "x_test_vectorised = vectors.transform(x_val)"
   ]
  },
  {
   "cell_type": "code",
   "execution_count": 57,
   "id": "5baa77b4-7896-4822-a70f-1a22a4130e95",
   "metadata": {},
   "outputs": [],
   "source": [
    "tfidf_transformer = TfidfTransformer()"
   ]
  },
  {
   "cell_type": "code",
   "execution_count": null,
   "id": "290e5ec0-2f91-4b7e-b9e0-13cd269ecebb",
   "metadata": {},
   "outputs": [],
   "source": [
    "document = [Huge amount of data around 7MB] # ['john is a guy', 'person guy']\n",
    "vectorizer = CountVectorizer(ngram_range=(1, 5))\n",
    "\n",
    "# Don't need both X and transformer; they should be identical\n",
    "X = vectorizer.fit_transform(document)\n",
    "matrix_terms = np.array(vectorizer.get_feature_names())\n",
    "\n",
    "# Use the axis keyword to sum over rows\n",
    "matrix_freq = np.asarray(X.sum(axis=0)).ravel()\n",
    "final_matrix = np.array([matrix_terms,matrix_freq])"
   ]
  },
  {
   "cell_type": "code",
   "execution_count": 60,
   "id": "dc5e51e8-02d2-4be6-9dde-2ccbd12f29c1",
   "metadata": {},
   "outputs": [],
   "source": [
    "classifier = Pipeline([('vect', CountVectorizer()), ('tfidf', TfidfTransformer()), ('clf', MultinomialNB())])\n",
    "classifier = classifier.fit(x_train, y_train)"
   ]
  },
  {
   "cell_type": "code",
   "execution_count": 61,
   "id": "397cd350-466c-4eeb-ba00-98581bcb39fb",
   "metadata": {},
   "outputs": [
    {
     "data": {
      "text/plain": [
       "Pipeline(steps=[('vect', CountVectorizer()), ('tfidf', TfidfTransformer()),\n",
       "                ('clf', MultinomialNB())])"
      ]
     },
     "execution_count": 61,
     "metadata": {},
     "output_type": "execute_result"
    }
   ],
   "source": [
    "classifier"
   ]
  },
  {
   "cell_type": "code",
   "execution_count": 64,
   "id": "50b29186-04e2-487c-82d0-0462f59a9f48",
   "metadata": {},
   "outputs": [
    {
     "name": "stdout",
     "output_type": "stream",
     "text": [
      "f1 score:  0.33830945646743504\n",
      "accuracy :  66.07495069033531\n"
     ]
    }
   ],
   "source": [
    "print(\"f1 score: \",f1_score(y_val,classifier.predict(x_val),average='macro'))\n",
    "print(\"accuracy : \",accuracy_score(y_val,classifier.predict(x_val))*100)"
   ]
  },
  {
   "cell_type": "markdown",
   "id": "9418cad0-c2d0-4340-a8d2-d3fffa3c8e32",
   "metadata": {},
   "source": [
    "## Deep Learning "
   ]
  },
  {
   "cell_type": "code",
   "execution_count": 65,
   "id": "cbd50893-eb0b-4f4a-9ce7-c71cc6b93e6f",
   "metadata": {},
   "outputs": [
    {
     "ename": "ImportError",
     "evalue": "cannot import name 'BERTModel' from 'transformers' (C:\\Users\\USER\\.conda\\envs\\deeplearn\\lib\\site-packages\\transformers\\__init__.py)",
     "output_type": "error",
     "traceback": [
      "\u001b[1;31m---------------------------------------------------------------------------\u001b[0m",
      "\u001b[1;31mImportError\u001b[0m                               Traceback (most recent call last)",
      "\u001b[1;32m~\\AppData\\Local\\Temp\\ipykernel_13384\\356464780.py\u001b[0m in \u001b[0;36m<module>\u001b[1;34m\u001b[0m\n\u001b[1;32m----> 1\u001b[1;33m \u001b[1;32mfrom\u001b[0m \u001b[0mtransformers\u001b[0m \u001b[1;32mimport\u001b[0m \u001b[0mBERTModel\u001b[0m\u001b[1;33m,\u001b[0m\u001b[0mBertTokenizer\u001b[0m\u001b[1;33m\u001b[0m\u001b[1;33m\u001b[0m\u001b[0m\n\u001b[0m",
      "\u001b[1;31mImportError\u001b[0m: cannot import name 'BERTModel' from 'transformers' (C:\\Users\\USER\\.conda\\envs\\deeplearn\\lib\\site-packages\\transformers\\__init__.py)"
     ]
    }
   ],
   "source": [
    "from transformers import BERTModel,BertTokenizer "
   ]
  },
  {
   "cell_type": "code",
   "execution_count": null,
   "id": "b71480b7-89f9-4a74-90a6-ce7b54068c1b",
   "metadata": {},
   "outputs": [],
   "source": []
  }
 ],
 "metadata": {
  "kernelspec": {
   "display_name": "Python 3 (ipykernel)",
   "language": "python",
   "name": "python3"
  },
  "language_info": {
   "codemirror_mode": {
    "name": "ipython",
    "version": 3
   },
   "file_extension": ".py",
   "mimetype": "text/x-python",
   "name": "python",
   "nbconvert_exporter": "python",
   "pygments_lexer": "ipython3",
   "version": "3.9.12"
  }
 },
 "nbformat": 4,
 "nbformat_minor": 5
}
